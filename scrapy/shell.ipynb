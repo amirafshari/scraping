{
 "cells": [
  {
   "cell_type": "code",
   "execution_count": 3,
   "id": "c417c00d",
   "metadata": {},
   "outputs": [],
   "source": [
    "import scrapy"
   ]
  },
  {
   "cell_type": "code",
   "execution_count": 4,
   "id": "acf990be",
   "metadata": {},
   "outputs": [],
   "source": [
    "import requests\n",
    "from scrapy.http import TextResponse\n",
    "\n",
    "r = requests.get('http://www.tsetmc.com/loader.aspx?ParTree=151311&i=33854964748757477')\n",
    "response = TextResponse(r.url, body=r.text, encoding='utf-8')"
   ]
  },
  {
   "cell_type": "code",
   "execution_count": 5,
   "id": "1a2c1754",
   "metadata": {},
   "outputs": [
    {
     "data": {
      "text/plain": [
       "['PSB is being developed by Pooya Paridel.',\n",
       " 'شركت مديريت فناوري بورس تهران',\n",
       " ' Tehran Securities Exchange Technology Management Co',\n",
       " '\\r\\n',\n",
       " '\\r\\n',\n",
       " '\\r\\n',\n",
       " '\\r\\n\\r\\n',\n",
       " '\\r\\n    \\r\\n\\r\\n\\r\\n\\r\\n\\r\\n',\n",
       " '\\r\\n\\r\\n',\n",
       " '\\r\\n',\n",
       " '\\r\\n',\n",
       " '\\r\\n\\r\\n\\r\\n    \\r\\n',\n",
       " '\\r\\n\\r\\n',\n",
       " '\\r\\n']"
      ]
     },
     "execution_count": 5,
     "metadata": {},
     "output_type": "execute_result"
    }
   ],
   "source": [
    "response.css('div::text').getall()"
   ]
  },
  {
   "cell_type": "code",
   "execution_count": null,
   "id": "437e9f98",
   "metadata": {},
   "outputs": [],
   "source": []
  }
 ],
 "metadata": {
  "kernelspec": {
   "display_name": "Python 3",
   "language": "python",
   "name": "python3"
  },
  "language_info": {
   "codemirror_mode": {
    "name": "ipython",
    "version": 3
   },
   "file_extension": ".py",
   "mimetype": "text/x-python",
   "name": "python",
   "nbconvert_exporter": "python",
   "pygments_lexer": "ipython3",
   "version": "3.8.8"
  }
 },
 "nbformat": 4,
 "nbformat_minor": 5
}
